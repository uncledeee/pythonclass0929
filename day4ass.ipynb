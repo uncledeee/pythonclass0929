{
 "cells": [
  {
   "cell_type": "code",
   "execution_count": null,
   "metadata": {},
   "outputs": [
    {
     "name": "stdout",
     "output_type": "stream",
     "text": [
      "20 is a greater number\n"
     ]
    }
   ],
   "source": [
    "#Question 2: write a program for this >> Take two int values from user and print greatest among them.\n",
    "\n",
    "\n",
    "firstnumber = int(input('Please Provide a number:'))\n",
    "secondnumber = int(input('Please Provide a number:'))\n",
    "if firstnumber > secondnumber:\n",
    "    print(f'{firstnumber} is a greater number')\n",
    "else:\n",
    "    print(f'{firstnumber} is a lesser number')\n",
    "     "
   ]
  },
  {
   "cell_type": "code",
   "execution_count": null,
   "metadata": {},
   "outputs": [
    {
     "name": "stdout",
     "output_type": "stream",
     "text": [
      "4 is the oldest\n"
     ]
    }
   ],
   "source": [
    "# Question 3: Take input of age of 3 people by user and determine oldest and youngest among them.\n",
    "\n",
    "\n",
    "firstage = int(input('Please Provide a number:'))\n",
    "secondage = int(input('Please Provide a number:'))\n",
    "thirdage = int(input('Please Provide a number:'))\n",
    "\n",
    "if firstage > secondage & thirdage:\n",
    "    print(f'{firstage} is the oldest')\n",
    "else:\n",
    "    if secondage > firstage & thirdage:\n",
    "        print(f'{secondage} is the oldest')\n",
    "    else:\n",
    "        print(f'{thirdage} is the oldest') \n"
   ]
  },
  {
   "cell_type": "code",
   "execution_count": 3,
   "metadata": {},
   "outputs": [
    {
     "name": "stdout",
     "output_type": "stream",
     "text": [
      "21000.0\n"
     ]
    }
   ],
   "source": [
    "#Question 1. A company decided to give bonus of 5% to employee if his/her year of service is more than 5 years.\n",
    "#Ask user for their salary and year of service and print the net bonus amount.\n",
    "\n",
    "salary = float(input('employee salary:'))\n",
    "year = float(input('employee year:'))\n",
    "\n",
    "if  year > 5:\n",
    "    new_salary = salary + (salary * 0.05)\n",
    "print(new_salary)"
   ]
  },
  {
   "cell_type": "code",
   "execution_count": 6,
   "metadata": {},
   "outputs": [
    {
     "name": "stdout",
     "output_type": "stream",
     "text": [
      "not allowed\n"
     ]
    }
   ],
   "source": [
    "# Question 4: A student will not be allowed to sit in exam if his/her attendence is less than 75%. Take following \n",
    "# input from user Number of classes held, Number of classes attended. And print percentage of class attended\n",
    "#If student is allowed to sit in exam or not.\n",
    " \n",
    "\n",
    "class_attendance = int(input('Please Enter number of classes attended:'))\n",
    "total_classes_held = int(input('Please number of classes held:'))\n",
    "\n",
    "percentage = (class_attendance/total_classes_held) * 100\n",
    "\n",
    "if percentage > 75:\n",
    "    print('Allowed')\n",
    "else:\n",
    "    print('not allowed')\n",
    "\n",
    "\n",
    "\n",
    "\n",
    "\n",
    "\n",
    "\n",
    "\n",
    "\n",
    "\n",
    "\n",
    "\n",
    "\n",
    "\n",
    "\n",
    "\n"
   ]
  },
  {
   "cell_type": "code",
   "execution_count": 1,
   "metadata": {},
   "outputs": [
    {
     "name": "stdout",
     "output_type": "stream",
     "text": [
      "enter correct value\n",
      "enter correct value\n",
      "Enter correct value\n",
      "Enter correct value\n",
      "Enter correct value\n",
      "Enter correct value\n"
     ]
    }
   ],
   "source": [
    "#  Question 5: Ask user to enter age, sex ( M or F ), marital status ( Y or N ) and then using following rules print their place of service.\n",
    "#if employee is female, then she will work only in urban areas.\n",
    "# if employee is a male and age is in between 20 to 40 then he may work in anywhere\n",
    "#if employee is male and age is in between 40 t0 60 then he will work in urban areas only.\n",
    "#And any other input of age should print \"ERROR\".\n",
    "\n",
    "\n",
    "state = False\n",
    "\n",
    "mf = ['M','F']\n",
    "\n",
    "\n",
    "while not state:\n",
    "  sex = input('Enter \"M\" for Male and \"F\" for female').upper()\n",
    "  age = input('Enter Age')\n",
    "  marital_status = input('Enter \"Y\" if married and \"N\" if single')\n",
    "  if sex not in mf:\n",
    "    print('Enter correct value')\n",
    "  elif sex == 'F':\n",
    "    print('work only in urban areas')\n",
    "    state = True\n",
    "  elif sex == 'M' and type(age) == int and (20 <= int(age) <= 40):\n",
    "    print('may work in anywhere')\n",
    "    state = True\n",
    "  elif sex == 'M' and  type(age) == int and (40 <= int(age) <= 60):\n",
    "    print('work in urban areas only')\n",
    "    state = True\n",
    "  else:\n",
    "    print('enter correct value')\n",
    "\n",
    "\n"
   ]
  },
  {
   "cell_type": "markdown",
   "metadata": {},
   "source": [
    "\n",
    "\n",
    "\n",
    "\n"
   ]
  },
  {
   "cell_type": "code",
   "execution_count": null,
   "metadata": {},
   "outputs": [],
   "source": []
  },
  {
   "cell_type": "code",
   "execution_count": null,
   "metadata": {},
   "outputs": [],
   "source": []
  }
 ],
 "metadata": {
  "kernelspec": {
   "display_name": "Python 3.10.4 64-bit",
   "language": "python",
   "name": "python3"
  },
  "language_info": {
   "codemirror_mode": {
    "name": "ipython",
    "version": 3
   },
   "file_extension": ".py",
   "mimetype": "text/x-python",
   "name": "python",
   "nbconvert_exporter": "python",
   "pygments_lexer": "ipython3",
   "version": "3.10.4"
  },
  "orig_nbformat": 4,
  "vscode": {
   "interpreter": {
    "hash": "939a5ab72fe20ad48974503871fbd742be2cab53d30d9ff8a8974dd090db548b"
   }
  }
 },
 "nbformat": 4,
 "nbformat_minor": 2
}
