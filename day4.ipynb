{
 "cells": [
  {
   "cell_type": "code",
   "execution_count": 1,
   "metadata": {},
   "outputs": [
    {
     "name": "stdout",
     "output_type": "stream",
     "text": [
      "['__doc__', '__loader__', '__name__', '__package__', '__spec__', 'acos', 'acosh', 'asin', 'asinh', 'atan', 'atan2', 'atanh', 'ceil', 'comb', 'copysign', 'cos', 'cosh', 'degrees', 'dist', 'e', 'erf', 'erfc', 'exp', 'expm1', 'fabs', 'factorial', 'floor', 'fmod', 'frexp', 'fsum', 'gamma', 'gcd', 'hypot', 'inf', 'isclose', 'isfinite', 'isinf', 'isnan', 'isqrt', 'lcm', 'ldexp', 'lgamma', 'log', 'log10', 'log1p', 'log2', 'modf', 'nan', 'nextafter', 'perm', 'pi', 'pow', 'prod', 'radians', 'remainder', 'sin', 'sinh', 'sqrt', 'tan', 'tanh', 'tau', 'trunc', 'ulp']\n"
     ]
    }
   ],
   "source": [
    "import math\n",
    "print(dir(math))"
   ]
  },
  {
   "cell_type": "code",
   "execution_count": 2,
   "metadata": {},
   "outputs": [
    {
     "name": "stdout",
     "output_type": "stream",
     "text": [
      "18\n",
      "17\n",
      "2.8831233291713367\n"
     ]
    }
   ],
   "source": [
    "numbers = 17.87\n",
    "print(math.ceil(numbers))\n",
    "print(math.floor(numbers))\n",
    "print(math.log(numbers))\n"
   ]
  },
  {
   "cell_type": "code",
   "execution_count": 3,
   "metadata": {},
   "outputs": [
    {
     "name": "stdout",
     "output_type": "stream",
     "text": [
      "['Counter', 'Decimal', 'Fraction', 'LinearRegression', 'NormalDist', 'StatisticsError', '__all__', '__builtins__', '__cached__', '__doc__', '__file__', '__loader__', '__name__', '__package__', '__spec__', '_coerce', '_convert', '_exact_ratio', '_fail_neg', '_find_lteq', '_find_rteq', '_isfinite', '_normal_dist_inv_cdf', '_ss', '_sum', 'bisect_left', 'bisect_right', 'correlation', 'covariance', 'erf', 'exp', 'fabs', 'fmean', 'fsum', 'geometric_mean', 'groupby', 'harmonic_mean', 'hypot', 'itemgetter', 'linear_regression', 'log', 'math', 'mean', 'median', 'median_grouped', 'median_high', 'median_low', 'mode', 'multimode', 'namedtuple', 'numbers', 'pstdev', 'pvariance', 'quantiles', 'random', 'repeat', 'sqrt', 'stdev', 'tau', 'variance']\n"
     ]
    }
   ],
   "source": [
    "import statistics as stat\n",
    "print(dir(stat))"
   ]
  },
  {
   "cell_type": "code",
   "execution_count": 5,
   "metadata": {},
   "outputs": [
    {
     "name": "stdout",
     "output_type": "stream",
     "text": [
      "80.66666666666667\n",
      "85\n",
      "212\n",
      "14.560219778561036\n"
     ]
    }
   ],
   "source": [
    "scores = [78,80,95,45,89,78,90,85,86]\n",
    "print(stat.mean(scores))\n",
    "print(stat.median(scores))\n",
    "print(stat.variance(scores))\n",
    "print(stat.stdev(scores))"
   ]
  },
  {
   "cell_type": "code",
   "execution_count": 6,
   "metadata": {},
   "outputs": [
    {
     "name": "stdout",
     "output_type": "stream",
     "text": [
      "['BPF', 'LOG4', 'NV_MAGICCONST', 'RECIP_BPF', 'Random', 'SG_MAGICCONST', 'SystemRandom', 'TWOPI', '_ONE', '_Sequence', '_Set', '__all__', '__builtins__', '__cached__', '__doc__', '__file__', '__loader__', '__name__', '__package__', '__spec__', '_accumulate', '_acos', '_bisect', '_ceil', '_cos', '_e', '_exp', '_floor', '_index', '_inst', '_isfinite', '_log', '_os', '_pi', '_random', '_repeat', '_sha512', '_sin', '_sqrt', '_test', '_test_generator', '_urandom', '_warn', 'betavariate', 'choice', 'choices', 'expovariate', 'gammavariate', 'gauss', 'getrandbits', 'getstate', 'lognormvariate', 'normalvariate', 'paretovariate', 'randbytes', 'randint', 'random', 'randrange', 'sample', 'seed', 'setstate', 'shuffle', 'triangular', 'uniform', 'vonmisesvariate', 'weibullvariate']\n"
     ]
    }
   ],
   "source": [
    "import random as rn\n",
    "print(dir(rn))"
   ]
  },
  {
   "cell_type": "code",
   "execution_count": 7,
   "metadata": {},
   "outputs": [
    {
     "data": {
      "text/plain": [
       "24"
      ]
     },
     "execution_count": 7,
     "metadata": {},
     "output_type": "execute_result"
    }
   ],
   "source": [
    "rn.randint(14,30)\n"
   ]
  },
  {
   "cell_type": "code",
   "execution_count": 8,
   "metadata": {},
   "outputs": [
    {
     "name": "stdout",
     "output_type": "stream",
     "text": [
      "[86, 78, 89, 78, 80, 90, 85, 45, 95]\n"
     ]
    }
   ],
   "source": [
    "rn.shuffle(scores)\n",
    "print(scores)"
   ]
  },
  {
   "cell_type": "code",
   "execution_count": 9,
   "metadata": {},
   "outputs": [
    {
     "data": {
      "text/plain": [
       "95"
      ]
     },
     "execution_count": 9,
     "metadata": {},
     "output_type": "execute_result"
    }
   ],
   "source": [
    "rn.choice(scores)\n"
   ]
  },
  {
   "cell_type": "code",
   "execution_count": 13,
   "metadata": {},
   "outputs": [
    {
     "name": "stdout",
     "output_type": "stream",
     "text": [
      "45 is a positive number\n"
     ]
    }
   ],
   "source": [
    "#write a program to check if the user given number is a positive number\n",
    "usernumber = int(input('Please Provide a number:'))\n",
    "if usernumber > 0:\n",
    "    print(f'{usernumber} is a positive number')"
   ]
  },
  {
   "cell_type": "code",
   "execution_count": 17,
   "metadata": {},
   "outputs": [
    {
     "name": "stdout",
     "output_type": "stream",
     "text": [
      "30 is an even number\n"
     ]
    }
   ],
   "source": [
    "#Write a program to check if your current age is an even number\n",
    "age = int(input('Please Provide an age:'))\n",
    "if age % 2 == 0:\n",
    "    print(f'{age} is an even number')"
   ]
  },
  {
   "cell_type": "code",
   "execution_count": 20,
   "metadata": {},
   "outputs": [
    {
     "name": "stdout",
     "output_type": "stream",
     "text": [
      "23 is an odd number\n"
     ]
    }
   ],
   "source": [
    "age = int(input('Please Provide an age:'))\n",
    "if age % 2 == 0:\n",
    "    print(f'{age} is an even number')\n",
    "\n",
    "else:\n",
    "    print(f'{age} is an odd number')"
   ]
  },
  {
   "cell_type": "code",
   "execution_count": null,
   "metadata": {},
   "outputs": [],
   "source": [
    "#if ade spends 25% of his salary on transport, 15% of his salary on feeding, 20% on housing, 15% on savings and 5% on miscellaneuos, ask ade for his salary and write a condition to check if his budget is realistic or not."
   ]
  },
  {
   "cell_type": "code",
   "execution_count": 22,
   "metadata": {},
   "outputs": [
    {
     "name": "stdout",
     "output_type": "stream",
     "text": [
      "ade budget is 24000.0 which is less or equal to his salary, therefore his budget is realistic\n"
     ]
    }
   ],
   "source": [
    "salary = float(input('Ade salary:'))\n",
    "trans = salary * 0.25\n",
    "feeding = salary * 0.15\n",
    "rent = salary * 0.20\n",
    "savings = salary * 0.15\n",
    "misc = salary * 0.05\n",
    "\n",
    "budget = trans + feeding + rent + savings + misc\n",
    "if budget <= salary:\n",
    "    print(f'ade budget is {budget} which is less or equal to his salary, therefore his budget is realistic')\n",
    "else:\n",
    "    print(f'ade budget is {budget} which is greater than his salary, therefore his budget is not realistic')"
   ]
  },
  {
   "cell_type": "code",
   "execution_count": 23,
   "metadata": {},
   "outputs": [
    {
     "name": "stdout",
     "output_type": "stream",
     "text": [
      "10 is a positive number\n"
     ]
    }
   ],
   "source": [
    "#write a program to check if a number is positive, or negative, or zero\n",
    "#nested condition\n",
    "number = int(input('Please Provide a number:'))\n",
    "if number > 0:\n",
    "    print(f'{number} is a positive number')\n",
    "else:\n",
    "    if number < 0:\n",
    "        print(f'{number} is a negative number')\n",
    "    else:\n",
    "        print(f'{number} is zero')    "
   ]
  },
  {
   "cell_type": "code",
   "execution_count": 24,
   "metadata": {},
   "outputs": [
    {
     "name": "stdout",
     "output_type": "stream",
     "text": [
      "-20 is a negative number\n"
     ]
    }
   ],
   "source": [
    "#multiple conditions\n",
    "number = int(input('Please Provide a number:'))\n",
    "if number > 0:\n",
    "    print(f'{number} is a positive number')\n",
    "elif number < 0:\n",
    "        print(f'{number} is a negative number')\n",
    "else:\n",
    "    print(f'{number} is zero')    "
   ]
  },
  {
   "cell_type": "code",
   "execution_count": 28,
   "metadata": {},
   "outputs": [
    {
     "name": "stdout",
     "output_type": "stream",
     "text": [
      "Welcome to M&T Plaza\n",
      "Lift button\n",
      "GF: GROUNDFLOOR\n",
      "1: FIRST FLOOR\n",
      "2: SECOND FLOOR\n",
      "3: THIRD FLOOR\n",
      "4: FOURTH FLOOR\n",
      "5: FIFTH FLOOR\n",
      "\n",
      "pom pom THIRD FLOOR\n"
     ]
    }
   ],
   "source": [
    "#you work at m&T plaza having 5 floor and a ground floors, write a simple lift program to navigate through each floor\n",
    "print('Welcome to M&T Plaza')\n",
    "print('''Lift button\n",
    "GF: GROUNDFLOOR\n",
    "1: FIRST FLOOR\n",
    "2: SECOND FLOOR\n",
    "3: THIRD FLOOR\n",
    "4: FOURTH FLOOR\n",
    "5: FIFTH FLOOR\n",
    "''')\n",
    "liftbutton  =input('Press button option')\n",
    "if liftbutton == 'gf':\n",
    "    print('pom pom GROUND FLOOR')\n",
    "elif liftbutton =='1':\n",
    "    print('pom pom FIRST FLOOR')\n",
    "elif liftbutton =='2':\n",
    "    print('pom pom SECOND FLOOR')\n",
    "elif liftbutton =='3':\n",
    "    print('pom pom THIRD FLOOR')\n",
    "elif liftbutton =='4':\n",
    "    print('pom pom FOURTH FLOOR')\n",
    "elif liftbutton =='5':\n",
    "    print('pom pom FIFTH FLOOR')\n",
    "\n",
    "else:\n",
    "    print('pom pom lift is faulty')\n"
   ]
  },
  {
   "cell_type": "code",
   "execution_count": null,
   "metadata": {},
   "outputs": [],
   "source": []
  },
  {
   "cell_type": "code",
   "execution_count": null,
   "metadata": {},
   "outputs": [],
   "source": []
  }
 ],
 "metadata": {
  "kernelspec": {
   "display_name": "Python 3.10.4 64-bit",
   "language": "python",
   "name": "python3"
  },
  "language_info": {
   "codemirror_mode": {
    "name": "ipython",
    "version": 3
   },
   "file_extension": ".py",
   "mimetype": "text/x-python",
   "name": "python",
   "nbconvert_exporter": "python",
   "pygments_lexer": "ipython3",
   "version": "3.10.4"
  },
  "orig_nbformat": 4,
  "vscode": {
   "interpreter": {
    "hash": "939a5ab72fe20ad48974503871fbd742be2cab53d30d9ff8a8974dd090db548b"
   }
  }
 },
 "nbformat": 4,
 "nbformat_minor": 2
}
