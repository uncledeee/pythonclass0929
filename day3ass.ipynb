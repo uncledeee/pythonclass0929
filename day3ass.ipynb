{
 "cells": [
  {
   "cell_type": "code",
   "execution_count": 1,
   "metadata": {},
   "outputs": [
    {
     "ename": "AttributeError",
     "evalue": "'tuple' object has no attribute 'reverse'",
     "output_type": "error",
     "traceback": [
      "\u001b[1;31m---------------------------------------------------------------------------\u001b[0m",
      "\u001b[1;31mAttributeError\u001b[0m                            Traceback (most recent call last)",
      "Cell \u001b[1;32mIn [1], line 4\u001b[0m\n\u001b[0;32m      1\u001b[0m \u001b[38;5;66;03m#Write a program to Reverse the given tuple\u001b[39;00m\n\u001b[0;32m      2\u001b[0m \u001b[38;5;66;03m#(46,53,45,48,55,45,49,51,51,58,50,55,53,57,50,46,55,55,47,57,55)\u001b[39;00m\n\u001b[0;32m      3\u001b[0m number \u001b[38;5;241m=\u001b[39m (\u001b[38;5;241m46\u001b[39m,\u001b[38;5;241m53\u001b[39m,\u001b[38;5;241m45\u001b[39m,\u001b[38;5;241m48\u001b[39m,\u001b[38;5;241m55\u001b[39m,\u001b[38;5;241m45\u001b[39m,\u001b[38;5;241m49\u001b[39m,\u001b[38;5;241m51\u001b[39m,\u001b[38;5;241m51\u001b[39m,\u001b[38;5;241m58\u001b[39m,\u001b[38;5;241m50\u001b[39m,\u001b[38;5;241m55\u001b[39m,\u001b[38;5;241m53\u001b[39m,\u001b[38;5;241m57\u001b[39m,\u001b[38;5;241m50\u001b[39m,\u001b[38;5;241m46\u001b[39m,\u001b[38;5;241m55\u001b[39m,\u001b[38;5;241m55\u001b[39m,\u001b[38;5;241m47\u001b[39m,\u001b[38;5;241m57\u001b[39m,\u001b[38;5;241m55\u001b[39m)\n\u001b[1;32m----> 4\u001b[0m \u001b[43mnumber\u001b[49m\u001b[38;5;241;43m.\u001b[39;49m\u001b[43mreverse\u001b[49m()\n\u001b[0;32m      5\u001b[0m \u001b[38;5;28mprint\u001b[39m(number)\n",
      "\u001b[1;31mAttributeError\u001b[0m: 'tuple' object has no attribute 'reverse'"
     ]
    }
   ],
   "source": [
    "#Write a program to Reverse the given tuple\n",
    "#(46,53,45,48,55,45,49,51,51,58,50,55,53,57,50,46,55,55,47,57,55)\n",
    "number = (46,53,45,48,55,45,49,51,51,58,50,55,53,57,50,46,55,55,47,57,55)\n",
    "\n",
    "print(number)"
   ]
  },
  {
   "cell_type": "code",
   "execution_count": 4,
   "metadata": {},
   "outputs": [
    {
     "name": "stdout",
     "output_type": "stream",
     "text": [
      "58\n"
     ]
    }
   ],
   "source": [
    "#Write a program to Access value 58 from the above tuple\n",
    "number = (46,53,45,48,55,45,49,51,51,58,50,55,53,57,50,46,55,55,47,57,55)\n",
    "for  i in number:\n",
    "    if i == 58:\n",
    "        print(i)\n",
    "#print(number[9])"
   ]
  },
  {
   "cell_type": "code",
   "execution_count": 8,
   "metadata": {},
   "outputs": [
    {
     "name": "stdout",
     "output_type": "stream",
     "text": [
      "5\n"
     ]
    }
   ],
   "source": [
    "#Write a program to Counts the number of occurrences of item 55 from the above tuple\n",
    "number = (46,53,45,48,55,45,49,51,51,58,50,55,53,57,50,46,55,55,47,57,55)\n",
    "\n",
    "count = 0\n",
    "for i in number:\n",
    "    if i == 55:\n",
    "        count = count + 1\n",
    "\n",
    "print(count)\n"
   ]
  },
  {
   "cell_type": "code",
   "execution_count": 11,
   "metadata": {},
   "outputs": [
    {
     "data": {
      "text/plain": [
       "(49, 57)"
      ]
     },
     "execution_count": 11,
     "metadata": {},
     "output_type": "execute_result"
    }
   ],
   "source": [
    "#Write a program to return values 49 and 57 from the above tuple.\n",
    "number = (46,53,45,48,55,45,49,51,51,58,50,55,53,57,50,46,55,55,47,57,55)\n",
    "\n",
    "rl = ('e','e','g')\n",
    "\n",
    "def return_value(new_list):\n",
    "    return 49, 57\n",
    "\n",
    "return_value(rl)\n",
    "\n"
   ]
  },
  {
   "cell_type": "code",
   "execution_count": 12,
   "metadata": {},
   "outputs": [
    {
     "name": "stdout",
     "output_type": "stream",
     "text": [
      "[46, 53, 45, 48, 55, 45, 49, 69, 51, 51, 58, 50, 55, 53, 57, 50, 46, 55, 55, 47, 57, 55]\n"
     ]
    }
   ],
   "source": [
    "#Write a program to add item 69 after 49 in the following Python List\n",
    "number = [46, 53, 45, 48, 55, 45, 49, 51, 51, 58, 50, 55, 53, 57, 50, 46, 55, 55, 47, 57, 55]\n",
    "\n",
    "number.insert(7, 69)\n",
    "\n",
    "print(number)"
   ]
  },
  {
   "cell_type": "code",
   "execution_count": 17,
   "metadata": {},
   "outputs": [
    {
     "name": "stdout",
     "output_type": "stream",
     "text": [
      "[46, 53, 45, 48, 55, 45, 49, 51, 51, 58, 50, 55, 53, 57, 50, 46, 55, 55, 47, 57, 55, 89, 85, 36, 95, 45, 78]\n"
     ]
    }
   ],
   "source": [
    "#Write a program to extend [89,85,36,95,45,78] to the above list\n",
    "number = [46, 53, 45, 48, 55, 45, 49, 51, 51, 58, 50, 55, 53, 57, 50, 46, 55, 55, 47, 57, 55]\n",
    "\n",
    "number += [89,85,36,95,45,78]\n",
    "\n",
    "print(number)"
   ]
  },
  {
   "cell_type": "code",
   "execution_count": 21,
   "metadata": {},
   "outputs": [
    {
     "name": "stdout",
     "output_type": "stream",
     "text": [
      "{'Manchester United': ('Manchester', 'ETH', 'Maguire', '30 billion', '4-2-3-1'), 'Chelsea': ('London', 'Graham Potter', 'Azpiliqueta', '20 billion', '4-3-3'), 'Liverpool': ('Liverpool', 'klopp', 'Mo Salah', '50 billion', '4-3-3'), 'Man City': ('Manchester', 'Pep Guardiola', 'kompany', '90 billion', '4-3-3'), 'Arsenal': ('London', 'Arteta', 'Saka', '10 billion', '4-4-2'), 'Barcelona': ('Barcelona', 'Xavi', 'Busquets', '110 billion', '4-3-3'), 'Real Madrid': ('Madrid', 'Carlos Ancelotti', 'Toni Kroos', '700 billion', '4-3-2-1'), 'Tottenham': ('London', 'Anthonio Conte', 'Lo Celso', '15 billion', '4-3-3'), 'Athletico Madrid': ('Madrid', 'Diego Simeone', 'Koke', '25 billion', '4-3-3'), 'Juventus': ('Turin', 'Andreas Pirlo', 'Bonucci', '65 billion', '5-3-2')}\n"
     ]
    }
   ],
   "source": [
    "#Write a Python program to create a new dictionary having 10 football club names as\n",
    "# the key with each key holding the following values(location,managersname,clubcaptain,networth,clubformation)\n",
    "\n",
    "q = {'Manchester United': ('Manchester','ETH','Maguire','30 billion','4-2-3-1'),\n",
    "    'Chelsea': ('London','Graham Potter','Azpiliqueta', '20 billion', '4-3-3'),\n",
    "    'Liverpool': ('Liverpool','klopp','Mo Salah', '50 billion', '4-3-3'),\n",
    "    'Man City': ('Manchester','Pep Guardiola','kompany', '90 billion', '4-3-3'),\n",
    "    'Arsenal': ('London','Arteta','Saka', '10 billion', '4-4-2'),\n",
    "    'Barcelona': ('Barcelona','Xavi','Busquets', '110 billion', '4-3-3'),\n",
    "    'Real Madrid': ('Madrid','Carlos Ancelotti','Toni Kroos', '700 billion', '4-3-2-1'),\n",
    "    'Tottenham': ('London','Anthonio Conte','Lo Celso', '15 billion', '4-3-3'),\n",
    "    'Athletico Madrid': ('Madrid','Diego Simeone','Koke', '25 billion', '4-3-3'),\n",
    "    'Juventus': ('Turin','Andreas Pirlo','Bonucci', '65 billion', '5-3-2')}\n",
    "print(q)"
   ]
  },
  {
   "cell_type": "code",
   "execution_count": null,
   "metadata": {},
   "outputs": [],
   "source": []
  }
 ],
 "metadata": {
  "kernelspec": {
   "display_name": "Python 3.10.4 64-bit",
   "language": "python",
   "name": "python3"
  },
  "language_info": {
   "codemirror_mode": {
    "name": "ipython",
    "version": 3
   },
   "file_extension": ".py",
   "mimetype": "text/x-python",
   "name": "python",
   "nbconvert_exporter": "python",
   "pygments_lexer": "ipython3",
   "version": "3.10.4"
  },
  "orig_nbformat": 4,
  "vscode": {
   "interpreter": {
    "hash": "939a5ab72fe20ad48974503871fbd742be2cab53d30d9ff8a8974dd090db548b"
   }
  }
 },
 "nbformat": 4,
 "nbformat_minor": 2
}
