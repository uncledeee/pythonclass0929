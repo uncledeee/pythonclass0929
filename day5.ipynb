{
 "cells": [
  {
   "cell_type": "code",
   "execution_count": 1,
   "metadata": {},
   "outputs": [
    {
     "name": "stdout",
     "output_type": "stream",
     "text": [
      "ppp\n",
      "yyy\n",
      "ttt\n",
      "hhh\n",
      "ooo\n",
      "nnn\n"
     ]
    }
   ],
   "source": [
    "#loops\n",
    "#for loop: use when you know the number of time this program will run\n",
    "word = 'python'\n",
    "for char in word:\n",
    "    print (char * 3)"
   ]
  },
  {
   "cell_type": "code",
   "execution_count": 3,
   "metadata": {},
   "outputs": [
    {
     "name": "stdout",
     "output_type": "stream",
     "text": [
      "ppp yyy ttt hhh ooo nnn "
     ]
    }
   ],
   "source": [
    "word = 'python'\n",
    "for char in word:\n",
    "    print (char * 3, end=' ')"
   ]
  },
  {
   "cell_type": "code",
   "execution_count": 8,
   "metadata": {},
   "outputs": [
    {
     "name": "stdout",
     "output_type": "stream",
     "text": [
      "hey Ade this is to remind you of our meeting slated to hold by 4pm today.\n",
      "hey Faith this is to remind you of our meeting slated to hold by 4pm today.\n",
      "hey Lawal this is to remind you of our meeting slated to hold by 4pm today.\n",
      "hey Bisi this is to remind you of our meeting slated to hold by 4pm today.\n"
     ]
    }
   ],
   "source": [
    "names = ['Ade','Faith', 'Lawal', 'Bisi']\n",
    "for name in names:\n",
    "    print(f'hey {name} this is to remind you of our meeting slated to hold by 4pm today.')"
   ]
  },
  {
   "cell_type": "code",
   "execution_count": 9,
   "metadata": {},
   "outputs": [
    {
     "name": "stdout",
     "output_type": "stream",
     "text": [
      "James :: [84, 98, 54, 68]\n",
      "Hope :: [85, 90, 50, 90]\n",
      "Adams :: [75, 75, 78, 90]\n",
      "Mercy :: [99, 90, 70, 68]\n",
      "Samuel :: [88, 80, 70, 79]\n"
     ]
    }
   ],
   "source": [
    "student_score = {\n",
    "    'James': [84,98,54,68],\n",
    "    'Hope':[85,90,50,90],\n",
    "    'Adams':[75,75,78,90],\n",
    "    'Mercy':[99,90,70,68],\n",
    "    'Samuel':[88,80,70,79],\n",
    "}\n",
    "for key,value in student_score.items():\n",
    "    print(key,'::',value)"
   ]
  },
  {
   "cell_type": "code",
   "execution_count": 11,
   "metadata": {},
   "outputs": [
    {
     "name": "stdout",
     "output_type": "stream",
     "text": [
      "CONGRATULATION YOUR SCORE IN 4 SUBJECTS IS [85, 90, 50, 90]\n"
     ]
    }
   ],
   "source": [
    "student_score = {\n",
    "    'James': [84,98,54,68],\n",
    "    'Hope':[85,90,50,90],\n",
    "    'Adams':[75,75,78,90],\n",
    "    'Mercy':[99,90,70,68],\n",
    "    'Samuel':[88,80,70,79],\n",
    "}\n",
    "name = input('Please provide your name to access your score:')\n",
    "for key in student_score:\n",
    "    if name == key:\n",
    "        print(f'CONGRATULATION YOUR SCORE IN 4 SUBJECTS IS \\\n",
    "{student_score[name]}')\n",
    "#forwardslash breaks the string to the next line if its too long"
   ]
  },
  {
   "cell_type": "code",
   "execution_count": 13,
   "metadata": {},
   "outputs": [
    {
     "name": "stdout",
     "output_type": "stream",
     "text": [
      "RECORD NOT FOUND\n"
     ]
    }
   ],
   "source": [
    "student_score = {\n",
    "    'James': [84,98,54,68],\n",
    "    'Hope':[85,90,50,90],\n",
    "    'Adams':[75,75,78,90],\n",
    "    'Mercy':[99,90,70,68],\n",
    "    'Samuel':[88,80,70,79],\n",
    "}\n",
    "name = input('Please provide your name to access your score:')\n",
    "for key in student_score:\n",
    "    if name == key:\n",
    "        print(f'CONGRATULATION YOUR SCORE IN 4 SUBJECTS IS \\\n",
    "{student_score[name]}')\n",
    "else:\n",
    "    print('RECORD NOT FOUND')"
   ]
  },
  {
   "cell_type": "code",
   "execution_count": null,
   "metadata": {},
   "outputs": [],
   "source": [
    "student_score = {\n",
    "    'James': [84,98,54,68],\n",
    "    'Hope':[85,90,50,90],\n",
    "    'Adams':[75,75,78,90],\n",
    "    'Mercy':[99,90,70,68],\n",
    "    'Samuel':[88,80,70,79],\n",
    "}\n",
    "name = input('Please provide your name to access your score:')\n",
    "for key in student_score:\n",
    "    if name == key:\n",
    "        print(f'CONGRATULATION YOUR SCORE IN 4 SUBJECTS IS \\\n",
    "{student_score[name]}')\n",
    "    break\n",
    "else:\n",
    "    print('RECORD NOT FOUND')"
   ]
  },
  {
   "cell_type": "code",
   "execution_count": 14,
   "metadata": {},
   "outputs": [
    {
     "name": "stdout",
     "output_type": "stream",
     "text": [
      "The sqrt of 40 is 6.324555320336759\n",
      "The sqrt of 50 is 7.0710678118654755\n",
      "The sqrt of 12 is 3.4641016151377544\n",
      "The sqrt of 34 is 5.830951894845301\n",
      "The sqrt of 9 is 3.0\n",
      "The sqrt of 3 is 1.7320508075688772\n",
      "The sqrt of 2 is 1.4142135623730951\n"
     ]
    }
   ],
   "source": [
    "import math\n",
    "usernum = int(input('Please provide a number:'))\n",
    "counter = 1\n",
    "while usernum != 0:\n",
    "    print(f'The sqrt of {usernum} is {math.sqrt(usernum)}')\n",
    "    usernum = int(input('Please Provide a number'))\n",
    "    counter = counter + 1"
   ]
  },
  {
   "cell_type": "code",
   "execution_count": 15,
   "metadata": {},
   "outputs": [
    {
     "name": "stdout",
     "output_type": "stream",
     "text": [
      "PLAYER ONE SCORES::7\n",
      "PLAYER TWO SCORES::8\n",
      "PLAYER TWO WINS\n",
      "PLAYER ONE SCORES::8\n",
      "PLAYER TWO SCORES::9\n",
      "PLAYER TWO WINS\n",
      "PLAYER ONE SCORES::9\n",
      "PLAYER TWO SCORES::8\n",
      "PLAYER ONE WINS\n",
      "PLAYER ONE SCORES::7\n",
      "PLAYER TWO SCORES::5\n",
      "PLAYER ONE WINS\n",
      "PLAYER ONE SCORES::8\n",
      "PLAYER TWO SCORES::3\n",
      "PLAYER ONE WINS\n",
      "PLAYER ONE SCORES::12\n",
      "PLAYER TWO SCORES::3\n",
      "PLAYER ONE WINS\n",
      "PLAYER ONE SCORES::6\n",
      "PLAYER TWO SCORES::6\n",
      "IT IS A DRAW\n",
      "PLAYER ONE SCORES::3\n",
      "PLAYER TWO SCORES::8\n",
      "PLAYER TWO WINS\n",
      "PLAYER ONE SCORES::8\n",
      "PLAYER TWO SCORES::8\n",
      "IT IS A DRAW\n",
      "PLAYER ONE SCORES::7\n",
      "PLAYER TWO SCORES::5\n",
      "PLAYER ONE WINS\n",
      "PLAYER ONE IS THE OVERALL WINNER WITH A TOTAL POINT OF 29\n"
     ]
    }
   ],
   "source": [
    "import random\n",
    "player1score = 0\n",
    "player2score = 0\n",
    "\n",
    "for i in range (1,11):\n",
    "    #range for 1,11 is from 1-10\n",
    "    dice1 = random.randint(1,6) + random.randint (1,6)\n",
    "    dice2 = random.randint(1,6) + random.randint (1,6)\n",
    "\n",
    "    if dice1 > dice2:\n",
    "        print(f'PLAYER ONE SCORES::{dice1}')\n",
    "        print(f'PLAYER TWO SCORES::{dice2}')\n",
    "        print('PLAYER ONE WINS')\n",
    "        player1score = player1score + 5\n",
    "    elif dice2 > dice1:\n",
    "        print(f'PLAYER ONE SCORES::{dice1}')\n",
    "        print(f'PLAYER TWO SCORES::{dice2}')\n",
    "        print('PLAYER TWO WINS')\n",
    "        player2score = player2score + 5\n",
    "    elif dice1 == dice2:\n",
    "        print(f'PLAYER ONE SCORES::{dice1}')\n",
    "        print(f'PLAYER TWO SCORES::{dice2}')\n",
    "        print('IT IS A DRAW')\n",
    "        player1score = player1score + 2\n",
    "        player2score = player2score + 2\n",
    "\n",
    "if player1score > player2score:\n",
    "    print (f'PLAYER ONE IS THE OVERALL WINNER WITH A TOTAL POINT OF {player1score}')\n",
    "elif player2score > player1score:\n",
    "    print (f'PLAYER TWO IS THE OVERALL WINNER WITH A TOTAL POINT OF {player2score}')\n",
    "else:\n",
    "    print('IT IS A DRAW!!!!!!!')\n"
   ]
  },
  {
   "cell_type": "code",
   "execution_count": 16,
   "metadata": {},
   "outputs": [
    {
     "name": "stdout",
     "output_type": "stream",
     "text": [
      "PLAYER ONE SCORES::6\n",
      "PLAYER TWO SCORES::11\n",
      "PLAYER TWO WINS\n",
      "PLAYER ONE SCORES::2\n",
      "PLAYER TWO SCORES::5\n",
      "PLAYER TWO WINS\n",
      "PLAYER ONE SCORES::7\n",
      "PLAYER TWO SCORES::11\n",
      "PLAYER TWO WINS\n",
      "PLAYER ONE SCORES::7\n",
      "PLAYER TWO SCORES::6\n",
      "PLAYER ONE WINS\n",
      "PLAYER ONE SCORES::6\n",
      "PLAYER TWO SCORES::5\n",
      "PLAYER ONE WINS\n",
      "PLAYER ONE SCORES::4\n",
      "PLAYER TWO SCORES::9\n",
      "PLAYER TWO WINS\n",
      "PLAYER ONE SCORES::3\n",
      "PLAYER TWO SCORES::9\n",
      "PLAYER TWO WINS\n",
      "PLAYER ONE SCORES::12\n",
      "PLAYER TWO SCORES::10\n",
      "PLAYER ONE WINS\n",
      "PLAYER ONE SCORES::9\n",
      "PLAYER TWO SCORES::10\n",
      "PLAYER TWO WINS\n",
      "PLAYER ONE SCORES::9\n",
      "PLAYER TWO SCORES::4\n",
      "PLAYER ONE WINS\n",
      "PLAYER TWO IS THE OVERALL WINNER WITH A TOTAL POINT OF 30\n"
     ]
    }
   ],
   "source": [
    "import random\n",
    "player1score = 0\n",
    "player2score = 0\n",
    "counter = 1\n",
    "while counter <= 10:\n",
    "    #range for 1,11 is from 1-10\n",
    "    dice1 = random.randint(1,6) + random.randint (1,6)\n",
    "    dice2 = random.randint(1,6) + random.randint (1,6)\n",
    "\n",
    "    if dice1 > dice2:\n",
    "        print(f'PLAYER ONE SCORES::{dice1}')\n",
    "        print(f'PLAYER TWO SCORES::{dice2}')\n",
    "        print('PLAYER ONE WINS')\n",
    "        player1score = player1score + 5\n",
    "    elif dice2 > dice1:\n",
    "        print(f'PLAYER ONE SCORES::{dice1}')\n",
    "        print(f'PLAYER TWO SCORES::{dice2}')\n",
    "        print('PLAYER TWO WINS')\n",
    "        player2score = player2score + 5\n",
    "    elif dice1 == dice2:\n",
    "        print(f'PLAYER ONE SCORES::{dice1}')\n",
    "        print(f'PLAYER TWO SCORES::{dice2}')\n",
    "        print('IT IS A DRAW')\n",
    "        player1score = player1score + 2\n",
    "        player2score = player2score + 2\n",
    "    counter = counter + 1\n",
    "\n",
    "if player1score > player2score:\n",
    "    print (f'PLAYER ONE IS THE OVERALL WINNER WITH A TOTAL POINT OF {player1score}')\n",
    "elif player2score > player1score:\n",
    "    print (f'PLAYER TWO IS THE OVERALL WINNER WITH A TOTAL POINT OF {player2score}')\n",
    "else:\n",
    "    print('IT IS A DRAW!!!!!!!')"
   ]
  },
  {
   "cell_type": "code",
   "execution_count": null,
   "metadata": {},
   "outputs": [],
   "source": []
  }
 ],
 "metadata": {
  "kernelspec": {
   "display_name": "Python 3.10.4 64-bit",
   "language": "python",
   "name": "python3"
  },
  "language_info": {
   "codemirror_mode": {
    "name": "ipython",
    "version": 3
   },
   "file_extension": ".py",
   "mimetype": "text/x-python",
   "name": "python",
   "nbconvert_exporter": "python",
   "pygments_lexer": "ipython3",
   "version": "3.10.4"
  },
  "orig_nbformat": 4,
  "vscode": {
   "interpreter": {
    "hash": "939a5ab72fe20ad48974503871fbd742be2cab53d30d9ff8a8974dd090db548b"
   }
  }
 },
 "nbformat": 4,
 "nbformat_minor": 2
}
