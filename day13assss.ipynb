{
 "cells": [
  {
   "cell_type": "code",
   "execution_count": 2,
   "metadata": {},
   "outputs": [],
   "source": [
    "import pymysql"
   ]
  },
  {
   "cell_type": "code",
   "execution_count": 3,
   "metadata": {},
   "outputs": [],
   "source": [
    "mydb = pymysql.connect(\n",
    "    host = 'localhost',\n",
    "    user = 'root',\n",
    "    password = 'Oyinmiene1',\n",
    "    database = 'cryptodatamarket'\n",
    ")\n",
    "mycursor = mydb.cursor()"
   ]
  },
  {
   "cell_type": "code",
   "execution_count": 4,
   "metadata": {},
   "outputs": [
    {
     "name": "stdout",
     "output_type": "stream",
     "text": [
      "('marketrecord',)\n"
     ]
    }
   ],
   "source": [
    "mycursor.execute('show tables')\n",
    "for x in mycursor:\n",
    "    print(x)"
   ]
  },
  {
   "cell_type": "code",
   "execution_count": 5,
   "metadata": {},
   "outputs": [
    {
     "name": "stdout",
     "output_type": "stream",
     "text": [
      "(1, 'BTC USD', 16959.0, 130.93, 0.77)\n",
      "(2, 'ETH USD', 1275.62, 5.75, 0.45)\n",
      "(3, 'USDT U', 1.0, 0.0, 0.0046)\n",
      "(4, 'BNB USD', 289.7, -8.5, -2.85)\n",
      "(5, 'USDC USD', 1.0001, 0.0, 0.0026)\n",
      "(6, 'AMC USD', 8.17, 0.94, 13.0)\n",
      "(7, 'FTCH', 5.52, -2.98, -35.06)\n",
      "(8, 'ZS', 144.5, 11.05, 2.41)\n",
      "(9, 'MRVL', 45.4, -1.12, -2.41)\n",
      "(10, 'AMC', 8.17, 0.94, 13.0)\n",
      "(11, 'APE', 0.9945, 0.0104, 1.07)\n",
      "(12, 'FTCH', 8.52, 0.94, 1.07)\n",
      "(13, 'BBS', 5.53, -3.98, -35.34)\n",
      "(14, 'TSLA', 167.5, 33.06, 2.41)\n",
      "(15, 'AAPL', 454.4, -23.12, -2.41)\n",
      "(16, 'EGRNF', 567.17, 2.94, 13.0)\n",
      "(17, 'OKTA', 12.9945, 1.0104, 1.07)\n",
      "(18, 'GDRX', 228.17, 33.94, 13.0)\n",
      "(19, 'SPLK', 45.52, -34.98, -35.06)\n",
      "(20, 'FIVE', 184.5, 56.05, 2.41)\n"
     ]
    }
   ],
   "source": [
    "mycursor.execute('select * from marketrecord')\n",
    "for x in mycursor:\n",
    "    print(x)"
   ]
  },
  {
   "cell_type": "code",
   "execution_count": null,
   "metadata": {},
   "outputs": [],
   "source": []
  }
 ],
 "metadata": {
  "kernelspec": {
   "display_name": "Python 3.10.4 64-bit",
   "language": "python",
   "name": "python3"
  },
  "language_info": {
   "codemirror_mode": {
    "name": "ipython",
    "version": 3
   },
   "file_extension": ".py",
   "mimetype": "text/x-python",
   "name": "python",
   "nbconvert_exporter": "python",
   "pygments_lexer": "ipython3",
   "version": "3.10.4"
  },
  "orig_nbformat": 4,
  "vscode": {
   "interpreter": {
    "hash": "939a5ab72fe20ad48974503871fbd742be2cab53d30d9ff8a8974dd090db548b"
   }
  }
 },
 "nbformat": 4,
 "nbformat_minor": 2
}
