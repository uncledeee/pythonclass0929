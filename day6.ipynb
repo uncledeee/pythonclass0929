{
 "cells": [
  {
   "cell_type": "code",
   "execution_count": 1,
   "metadata": {},
   "outputs": [],
   "source": [
    "#function"
   ]
  },
  {
   "cell_type": "code",
   "execution_count": 3,
   "metadata": {},
   "outputs": [
    {
     "data": {
      "text/plain": [
       "'Welcome to python class'"
      ]
     },
     "execution_count": 3,
     "metadata": {},
     "output_type": "execute_result"
    }
   ],
   "source": [
    "def greet(): #a function without a parameter\n",
    "    return'Welcome to python class'\n",
    "greet()"
   ]
  },
  {
   "cell_type": "code",
   "execution_count": 4,
   "metadata": {},
   "outputs": [
    {
     "name": "stdout",
     "output_type": "stream",
     "text": [
      "welcome to python class Ade\n"
     ]
    }
   ],
   "source": [
    "def greet2(name): #a functcion with a single parameter\n",
    "    print(f'welcome to python class {name}')\n",
    "greet2('Ade')\n"
   ]
  },
  {
   "cell_type": "code",
   "execution_count": 6,
   "metadata": {},
   "outputs": [
    {
     "data": {
      "text/plain": [
       "'Welcome to python class'"
      ]
     },
     "execution_count": 6,
     "metadata": {},
     "output_type": "execute_result"
    }
   ],
   "source": [
    "greet()"
   ]
  },
  {
   "cell_type": "code",
   "execution_count": 8,
   "metadata": {},
   "outputs": [
    {
     "name": "stdout",
     "output_type": "stream",
     "text": [
      "ITEM:washing machine\n",
      "    QUANTITY:3\n",
      "    COST:75000\n",
      "    LOCATION:Abuja\n",
      "    TOTAL WEIGHT IN KG:75 \n",
      "    \n",
      "YOUR ITEM IS GREATER THAN THE DEFAULT WEIGHT AND HAS A HIGH COST,              YOUR SHIPPING FEE IS 18750\n"
     ]
    }
   ],
   "source": [
    "#write a python function to display the shipping details and also the cost per kg\n",
    "def itemshipping(itemname,itemcost, itemquantity, location, totalweight, costperkg):\n",
    "    print(f'''ITEM:{itemname}\n",
    "    QUANTITY:{itemquantity}\n",
    "    COST:{itemcost}\n",
    "    LOCATION:{location}\n",
    "    TOTAL WEIGHT IN KG:{totalweight} \n",
    "    ''')\n",
    "    if itemcost <= 5000 or totalweight <= 10:\n",
    "        print('FREE SHIPPING')\n",
    "    else:\n",
    "        totalcost = costperkg * totalweight\n",
    "        print(f'YOUR ITEM IS GREATER THAN THE DEFAULT WEIGHT AND HAS A HIGH COST, \\\n",
    "             YOUR SHIPPING FEE IS {totalcost}')\n",
    "\n",
    "itemshipping('washing machine',75000,3,'Abuja', 75,250)"
   ]
  },
  {
   "cell_type": "code",
   "execution_count": 18,
   "metadata": {},
   "outputs": [
    {
     "name": "stdout",
     "output_type": "stream",
     "text": [
      "Your average in 7 subjects is 73.57142857142857 and your grade is A\n"
     ]
    }
   ],
   "source": [
    "#  exercise one:\n",
    "#  using a function without a parameter write a program to calculate the average score of a student in 7 subjects and \n",
    "#  write a condition to grade the student based on the average score \n",
    "\n",
    "def scoregrade():\n",
    "    sub1 = float(input('Math Score:'))\n",
    "    sub2 = float(input('English Score:'))\n",
    "    sub3 = float(input('Chemistry Score:'))\n",
    "    sub4 = float(input('Geography Score:'))\n",
    "    sub5 = float(input('Physics Score:'))\n",
    "    sub6 = float(input('Economics Score:'))\n",
    "    sub7 = float(input('Agric Score:'))\n",
    "    averagescore = (sub1 + sub2 + sub3 + sub4 + sub5 + sub6 + sub7)/7\n",
    "\n",
    "    if averagescore >= 70 and averagescore <= 100:\n",
    "        print(f'Your average in 7 subjects is {averagescore} and your grade is A')\n",
    "\n",
    "    \n",
    "    elif averagescore >= 60 and averagescore <= 69.99:\n",
    "        print(f'Your average in 7 subjects is {averagescore} and your grade is B')\n",
    "\n",
    "    \n",
    "    elif averagescore >= 50 and averagescore <= 59.99:\n",
    "        print(f'Your average in 7 subjects is {averagescore} and your grade is C')\n",
    "\n",
    "    \n",
    "    elif averagescore >= 40 and averagescore <= 49.99:\n",
    "        print(f'Your average in 7 subjects is {averagescore} and your grade is D')\n",
    "\n",
    "    \n",
    "    elif averagescore >= 30 and averagescore <= 39.99:\n",
    "        print(f'Your average in 7 subjects is {averagescore} and your grade is E')\n",
    "\n",
    "    else:\n",
    "        print(f'Your average in 7 subjects is {averagescore} and your grade is F')\n",
    "scoregrade()        \n",
    "    \n",
    "    \n"
   ]
  },
  {
   "cell_type": "code",
   "execution_count": 21,
   "metadata": {},
   "outputs": [
    {
     "name": "stdout",
     "output_type": "stream",
     "text": [
      "ITEM:washing machine\n",
      "    QUANTITY:3\n",
      "    COST:75000\n",
      "    LOCATION:Abuja\n",
      "    TOTAL WEIGHT IN KG:80 \n",
      "    \n",
      "YOUR ITEM IS GREATER THAN THE DEFAULT WEIGHT AND HAS A HIGH COST,              YOUR SHIPPING FEE IS 24000\n"
     ]
    }
   ],
   "source": [
    "# default parameter\n",
    "def itemshipping(itemname,itemcost, itemquantity, location, totalweight, costperkg = 300):\n",
    "    print(f'''ITEM:{itemname}\n",
    "    QUANTITY:{itemquantity}\n",
    "    COST:{itemcost}\n",
    "    LOCATION:{location}\n",
    "    TOTAL WEIGHT IN KG:{totalweight} \n",
    "    ''')\n",
    "    if itemcost <= 5000 or totalweight <= 10:\n",
    "        print('FREE SHIPPING')\n",
    "    else:\n",
    "        totalcost = costperkg * totalweight\n",
    "        print(f'YOUR ITEM IS GREATER THAN THE DEFAULT WEIGHT AND HAS A HIGH COST, \\\n",
    "             YOUR SHIPPING FEE IS {totalcost}')\n",
    "\n",
    "itemshipping('washing machine',75000,3,'Abuja', 80)"
   ]
  },
  {
   "cell_type": "code",
   "execution_count": null,
   "metadata": {},
   "outputs": [],
   "source": []
  },
  {
   "cell_type": "code",
   "execution_count": null,
   "metadata": {},
   "outputs": [],
   "source": []
  }
 ],
 "metadata": {
  "kernelspec": {
   "display_name": "Python 3.10.4 64-bit",
   "language": "python",
   "name": "python3"
  },
  "language_info": {
   "codemirror_mode": {
    "name": "ipython",
    "version": 3
   },
   "file_extension": ".py",
   "mimetype": "text/x-python",
   "name": "python",
   "nbconvert_exporter": "python",
   "pygments_lexer": "ipython3",
   "version": "3.10.4"
  },
  "orig_nbformat": 4,
  "vscode": {
   "interpreter": {
    "hash": "939a5ab72fe20ad48974503871fbd742be2cab53d30d9ff8a8974dd090db548b"
   }
  }
 },
 "nbformat": 4,
 "nbformat_minor": 2
}
