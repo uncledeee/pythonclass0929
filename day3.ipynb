{
 "cells": [
  {
   "cell_type": "code",
   "execution_count": 1,
   "metadata": {},
   "outputs": [],
   "source": [
    "numbers = (45,20,25,12,10,4,5,6,7,8,9)\n",
    "#tuple is unchangeable"
   ]
  },
  {
   "cell_type": "code",
   "execution_count": 3,
   "metadata": {},
   "outputs": [
    {
     "name": "stdout",
     "output_type": "stream",
     "text": [
      "<class 'tuple'>\n"
     ]
    }
   ],
   "source": [
    "print(type(numbers))"
   ]
  },
  {
   "cell_type": "code",
   "execution_count": 6,
   "metadata": {},
   "outputs": [
    {
     "name": "stdout",
     "output_type": "stream",
     "text": [
      "(12, 10, 4, 5, 6)\n"
     ]
    }
   ],
   "source": [
    "print(numbers[3:8])"
   ]
  },
  {
   "cell_type": "code",
   "execution_count": 7,
   "metadata": {},
   "outputs": [
    {
     "name": "stdout",
     "output_type": "stream",
     "text": [
      "9\n"
     ]
    }
   ],
   "source": [
    "print(numbers[-1])"
   ]
  },
  {
   "cell_type": "code",
   "execution_count": 8,
   "metadata": {},
   "outputs": [
    {
     "name": "stdout",
     "output_type": "stream",
     "text": [
      "1\n"
     ]
    }
   ],
   "source": [
    "print(numbers.count(25))"
   ]
  },
  {
   "cell_type": "code",
   "execution_count": 9,
   "metadata": {},
   "outputs": [
    {
     "name": "stdout",
     "output_type": "stream",
     "text": [
      "2\n"
     ]
    }
   ],
   "source": [
    "print(numbers.index(25))"
   ]
  },
  {
   "cell_type": "code",
   "execution_count": 20,
   "metadata": {},
   "outputs": [],
   "source": [
    "items_check = ['Apple','Cherry','Cup','Spoon','Lemon']"
   ]
  },
  {
   "cell_type": "code",
   "execution_count": 21,
   "metadata": {},
   "outputs": [
    {
     "name": "stdout",
     "output_type": "stream",
     "text": [
      "['Apple', 'Cherry', 'Cup', 'Spoon', 'Lemon', 'Kettle']\n"
     ]
    }
   ],
   "source": [
    "items_check.append('Kettle')\n",
    "print(items_check)"
   ]
  },
  {
   "cell_type": "code",
   "execution_count": 22,
   "metadata": {},
   "outputs": [
    {
     "name": "stdout",
     "output_type": "stream",
     "text": [
      "['Apple', 'Cherry', 'Cup', 'Spoon', 'Lemon', 'Kettle', 'cup', 'manny', 'knife', 'tray', 'cup']\n"
     ]
    }
   ],
   "source": [
    "shop1 = ['cup', 'manny' ,'knife', 'tray', 'cup']\n",
    "items_check.extend(shop1)\n",
    "print(items_check)"
   ]
  },
  {
   "cell_type": "code",
   "execution_count": 23,
   "metadata": {},
   "outputs": [
    {
     "name": "stdout",
     "output_type": "stream",
     "text": [
      "['Apple', 'Cherry', 'Cup', 'Spoon', 'Pear', 'Lemon', 'Kettle', 'cup', 'manny', 'knife', 'tray', 'cup']\n"
     ]
    }
   ],
   "source": [
    "items_check.insert(4,'Pear')\n",
    "print(items_check)\n",
    "#insert adds in a new value"
   ]
  },
  {
   "cell_type": "code",
   "execution_count": 24,
   "metadata": {},
   "outputs": [
    {
     "name": "stdout",
     "output_type": "stream",
     "text": [
      "['Apple', 'Cherry', 'Cup', 'Spoon', 'Pear', 'Lemon', 'Kettle', 'cup', 'manny', 'knife', 'tray']\n"
     ]
    }
   ],
   "source": [
    "items_check.pop()\n",
    "print(items_check)"
   ]
  },
  {
   "cell_type": "code",
   "execution_count": 26,
   "metadata": {},
   "outputs": [
    {
     "name": "stdout",
     "output_type": "stream",
     "text": [
      "['Apple', 'Cherry', 'Cup', 'Spoon', 'Lemon', 'Kettle', 'cup', 'manny', 'knife', 'tray']\n"
     ]
    }
   ],
   "source": [
    "items_check.pop(4)\n",
    "print(items_check)\n",
    "#specify the exact place you want to be removed"
   ]
  },
  {
   "cell_type": "code",
   "execution_count": 28,
   "metadata": {},
   "outputs": [
    {
     "name": "stdout",
     "output_type": "stream",
     "text": [
      "['Apple', 'Cherry', 'Cup', 'Spoon', 'Lemon', 'Kettle', 'cup', 'knife', 'tray']\n"
     ]
    }
   ],
   "source": [
    "items_check.remove('manny')\n",
    "print(items_check)\n",
    "#Remove takes away the particular string you want to remove "
   ]
  },
  {
   "cell_type": "code",
   "execution_count": 29,
   "metadata": {},
   "outputs": [
    {
     "name": "stdout",
     "output_type": "stream",
     "text": [
      "['Apple', 'Cherry', 'Cup', 'Kettle', 'Lemon', 'Spoon', 'cup', 'knife', 'tray']\n"
     ]
    }
   ],
   "source": [
    "items_check.sort()\n",
    "print(items_check)"
   ]
  },
  {
   "cell_type": "code",
   "execution_count": 30,
   "metadata": {},
   "outputs": [
    {
     "name": "stdout",
     "output_type": "stream",
     "text": [
      "['tray', 'knife', 'cup', 'Spoon', 'Lemon', 'Kettle', 'Cup', 'Cherry', 'Apple']\n"
     ]
    }
   ],
   "source": [
    "items_check.reverse()\n",
    "print(items_check)"
   ]
  },
  {
   "cell_type": "code",
   "execution_count": 31,
   "metadata": {},
   "outputs": [
    {
     "name": "stdout",
     "output_type": "stream",
     "text": [
      "['tray', 'knife', 'cup', 'Spoon', 'Lemon', 'Kettle', 'Cup', 'Cherry', 'Apple']\n"
     ]
    }
   ],
   "source": [
    "items_copy = items_check.copy()\n",
    "print(items_copy)"
   ]
  },
  {
   "cell_type": "code",
   "execution_count": 32,
   "metadata": {},
   "outputs": [
    {
     "name": "stdout",
     "output_type": "stream",
     "text": [
      "[]\n"
     ]
    }
   ],
   "source": [
    "items_copy.clear()\n",
    "print(items_copy)"
   ]
  },
  {
   "cell_type": "code",
   "execution_count": 33,
   "metadata": {},
   "outputs": [
    {
     "ename": "NameError",
     "evalue": "name 'items_copy' is not defined",
     "output_type": "error",
     "traceback": [
      "\u001b[1;31m---------------------------------------------------------------------------\u001b[0m",
      "\u001b[1;31mNameError\u001b[0m                                 Traceback (most recent call last)",
      "Cell \u001b[1;32mIn [33], line 2\u001b[0m\n\u001b[0;32m      1\u001b[0m \u001b[38;5;28;01mdel\u001b[39;00m(items_copy)\n\u001b[1;32m----> 2\u001b[0m \u001b[38;5;28mprint\u001b[39m(\u001b[43mitems_copy\u001b[49m)\n",
      "\u001b[1;31mNameError\u001b[0m: name 'items_copy' is not defined"
     ]
    }
   ],
   "source": [
    "del(items_copy)\n",
    "print(items_copy)"
   ]
  },
  {
   "cell_type": "code",
   "execution_count": 1,
   "metadata": {},
   "outputs": [
    {
     "name": "stdout",
     "output_type": "stream",
     "text": [
      "{'Name': 'Simeon', 'Age': 45, 'Gender': 'Male', 'Height': 1.82, 'Weight': 70}\n"
     ]
    }
   ],
   "source": [
    "records = {\n",
    "    'Name': 'Simeon',\n",
    "    'Age' : 45,\n",
    "    'Gender': 'Male',\n",
    "    'Height': 1.82,\n",
    "    'Weight' : 70\n",
    "}\n",
    "print(records)\n",
    "#records act like a dictionary...it holds vallues with keywords"
   ]
  },
  {
   "cell_type": "code",
   "execution_count": 35,
   "metadata": {},
   "outputs": [
    {
     "name": "stdout",
     "output_type": "stream",
     "text": [
      "Simeon\n"
     ]
    }
   ],
   "source": [
    "print (records['Name'])"
   ]
  },
  {
   "cell_type": "code",
   "execution_count": 36,
   "metadata": {},
   "outputs": [
    {
     "name": "stdout",
     "output_type": "stream",
     "text": [
      "dict_keys(['Name', 'Age', 'Gender', 'Height', 'Weight'])\n",
      "dict_values(['Simeon', 45, 'Male', 1.82, 70])\n",
      "dict_items([('Name', 'Simeon'), ('Age', 45), ('Gender', 'Male'), ('Height', 1.82), ('Weight', 70)])\n"
     ]
    }
   ],
   "source": [
    "print(records.keys())\n",
    "print(records.values())\n",
    "print(records.items())\n",
    "#keys will return all the keys\n",
    "#values will return all the values\n",
    "#items will return both keys and values"
   ]
  },
  {
   "cell_type": "code",
   "execution_count": 37,
   "metadata": {},
   "outputs": [],
   "source": [
    "details = {\n",
    "    'Name' : ['Ade', 'Faith', 'Joe', 'Fatima'],\n",
    "    'Age': [14, 12, 15, 14]\n",
    "}"
   ]
  },
  {
   "cell_type": "code",
   "execution_count": 39,
   "metadata": {},
   "outputs": [
    {
     "name": "stdout",
     "output_type": "stream",
     "text": [
      "Joe\n"
     ]
    }
   ],
   "source": [
    "print(details['Name'][2])"
   ]
  },
  {
   "cell_type": "code",
   "execution_count": null,
   "metadata": {},
   "outputs": [],
   "source": []
  },
  {
   "cell_type": "code",
   "execution_count": null,
   "metadata": {},
   "outputs": [],
   "source": []
  }
 ],
 "metadata": {
  "kernelspec": {
   "display_name": "Python 3.10.4 64-bit",
   "language": "python",
   "name": "python3"
  },
  "language_info": {
   "codemirror_mode": {
    "name": "ipython",
    "version": 3
   },
   "file_extension": ".py",
   "mimetype": "text/x-python",
   "name": "python",
   "nbconvert_exporter": "python",
   "pygments_lexer": "ipython3",
   "version": "3.10.4"
  },
  "orig_nbformat": 4,
  "vscode": {
   "interpreter": {
    "hash": "939a5ab72fe20ad48974503871fbd742be2cab53d30d9ff8a8974dd090db548b"
   }
  }
 },
 "nbformat": 4,
 "nbformat_minor": 2
}
