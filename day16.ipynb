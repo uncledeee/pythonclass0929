{
 "cells": [
  {
   "cell_type": "code",
   "execution_count": null,
   "metadata": {},
   "outputs": [],
   "source": [
    "#exercise\n",
    "#1. write a python program to find those numbers which are divisible by 7 and 5 between 1500 and 2700(both included)\n",
    "# 2. write a python program to count the number of even and odd number in the given series (1,2,8,9,6,4,7,8,10,11,12,15,\n",
    "# 14,18)\n",
    "# 3. write a python program that accept a string and calculate the number of digits and letter\n",
    "# 4. write a python program to check the validity of a password based on the following requirement\n",
    "# i) at least a upper and a lower case letter\n",
    "# ii) a digit\n",
    "# iii) any of this character[$@#]\n",
    "#  iv) minimum length of 8\n",
    "#  v) maximum length of 16 "
   ]
  },
  {
   "cell_type": "code",
   "execution_count": 3,
   "metadata": {},
   "outputs": [
    {
     "name": "stdout",
     "output_type": "stream",
     "text": [
      "1\n",
      "2\n",
      "8\n",
      "9\n",
      "6\n",
      "4\n",
      "7\n",
      "8\n",
      "10\n",
      "11\n",
      "12\n",
      "15\n",
      "14\n",
      "18\n"
     ]
    }
   ],
   "source": [
    "#2\n",
    "number = (1,2,8,9,6,4,7,8,10,11,12,15,14,18)\n",
    "count = 0\n",
    "for  i in number:\n",
    "    if i / 2:\n",
    "        count = count + 1\n",
    "        print(i)\n"
   ]
  },
  {
   "cell_type": "code",
   "execution_count": 4,
   "metadata": {},
   "outputs": [
    {
     "name": "stdout",
     "output_type": "stream",
     "text": [
      "1\n",
      "9\n",
      "7\n",
      "11\n",
      "15\n"
     ]
    }
   ],
   "source": [
    "\n",
    "number = (1,2,8,9,6,4,7,8,10,11,12,15,14,18)\n",
    "count = 0\n",
    "for  i in number:\n",
    "    if i % 2:\n",
    "        count = count + 1\n",
    "        print(i)\n"
   ]
  },
  {
   "cell_type": "code",
   "execution_count": 7,
   "metadata": {},
   "outputs": [
    {
     "name": "stdout",
     "output_type": "stream",
     "text": [
      "Not a Valid Password\n"
     ]
    }
   ],
   "source": [
    "#4\n",
    "import re\n",
    "p= input('input your password:')\n",
    "x = True\n",
    "while x:\n",
    "    if (len(p)<6 or len(p)>12):\n",
    "        break\n",
    "    elif not re.search(\"[a-z]\",p):\n",
    "        break\n",
    "    elif not re.search(\"[0-9]\",p):\n",
    "        break\n",
    "    elif not re.search(\"[A-Z]\",p):\n",
    "        break\n",
    "    elif not re.search(\"[$%@]\",p):\n",
    "        break\n",
    "    else:\n",
    "        print(\"Valid Password\")\n",
    "        x=False\n",
    "        break\n",
    "    \n",
    "print(\"Not a Valid Password\")"
   ]
  },
  {
   "cell_type": "code",
   "execution_count": 5,
   "metadata": {},
   "outputs": [
    {
     "data": {
      "text/plain": [
       "'password is illegal'"
      ]
     },
     "execution_count": 5,
     "metadata": {},
     "output_type": "execute_result"
    }
   ],
   "source": [
    "(lambda password:'Password is legal' \n",
    "if (password[0] == password[0].upper()) and (password[-1]=='1' or password[-1]=='4' or password[-1]=='5' or password[-1]=='8') else 'password is illegal')(input('Please enter your password'))"
   ]
  },
  {
   "cell_type": "code",
   "execution_count": null,
   "metadata": {},
   "outputs": [],
   "source": [
    "#3.\n",
    "s = (\"input a string\")\n",
    "for l in s:\n",
    "    if c.isdigit():\n",
    "        count =d+1\n"
   ]
  },
  {
   "cell_type": "code",
   "execution_count": 8,
   "metadata": {},
   "outputs": [
    {
     "name": "stdout",
     "output_type": "stream",
     "text": [
      "1505,1540,1575,1610,1645,1680,1715,1750,1785,1820,1855,1890,1925,1960,1995,2030,2065,2100,2135,2170,2205,2240,2275,2310,2345,2380,2415,2450,2485,2520,2555,2590,2625,2660,2695\n"
     ]
    }
   ],
   "source": [
    "#SOLUTION\n",
    "#NUMBER 1\n",
    "output =[]\n",
    "for x in range(1500,2700):\n",
    "    if (x % 7 ==0) and (x % 5 ==0):\n",
    "        output.append(str(x))\n",
    "print(','.join(output))\n"
   ]
  },
  {
   "cell_type": "code",
   "execution_count": 10,
   "metadata": {},
   "outputs": [
    {
     "name": "stdout",
     "output_type": "stream",
     "text": [
      "Number of even numbers: 9\n",
      "Number of odd numbers: 5\n"
     ]
    }
   ],
   "source": [
    "#NUMBER 2\n",
    "numbers = (1,2,8,9,6,4,7,8,10,11,12,15,14,18)\n",
    "odd =0\n",
    "even = 0\n",
    "for x in numbers:\n",
    "    if not x % 2:\n",
    "        even +=1\n",
    "    else:\n",
    "        odd +=1\n",
    "print('Number of even numbers:', even)\n",
    "print('Number of odd numbers:', odd)"
   ]
  },
  {
   "cell_type": "code",
   "execution_count": 11,
   "metadata": {},
   "outputs": [
    {
     "name": "stdout",
     "output_type": "stream",
     "text": [
      "letters: 5\n",
      "digit: 0\n"
     ]
    }
   ],
   "source": [
    "#NUMBER 3\n",
    "string = input('INPUT A STRING:')\n",
    "digit = 0\n",
    "letter = 0\n",
    "for x in string:\n",
    "    if x.isdigit():\n",
    "        digit ==1\n",
    "    elif x.isalpha():\n",
    "        letter +=1\n",
    "    else:\n",
    "        pass\n",
    "print('letters:', letter)\n",
    "print('digit:', digit)"
   ]
  },
  {
   "cell_type": "code",
   "execution_count": 13,
   "metadata": {},
   "outputs": [
    {
     "name": "stdout",
     "output_type": "stream",
     "text": [
      "Not a Valid Password\n"
     ]
    }
   ],
   "source": [
    "#4\n",
    "#p for password\n",
    "import re\n",
    "p= input(\"input your password:\")\n",
    "x = True\n",
    "while x:\n",
    "    if (len(p)<6 or len(p)>12):\n",
    "        break\n",
    "    elif not re.search(\"[a-z]\",p):\n",
    "        break\n",
    "    elif not re.search(\"[0-9]\",p):\n",
    "        break\n",
    "    elif not re.search(\"[A-Z]\",p):\n",
    "        break\n",
    "    elif not re.search(\"[$%@]\",p):\n",
    "        break\n",
    "    \n",
    "    elif not re.search(\"\\s\",p):\n",
    "        break\n",
    "    else:\n",
    "        print(\"Valid Password\")\n",
    "        x=False\n",
    "        break\n",
    "if x:\n",
    "    print(\"Not a Valid Password\")"
   ]
  },
  {
   "cell_type": "code",
   "execution_count": null,
   "metadata": {},
   "outputs": [],
   "source": []
  }
 ],
 "metadata": {
  "kernelspec": {
   "display_name": "Python 3.10.4 64-bit",
   "language": "python",
   "name": "python3"
  },
  "language_info": {
   "codemirror_mode": {
    "name": "ipython",
    "version": 3
   },
   "file_extension": ".py",
   "mimetype": "text/x-python",
   "name": "python",
   "nbconvert_exporter": "python",
   "pygments_lexer": "ipython3",
   "version": "3.10.4"
  },
  "orig_nbformat": 4,
  "vscode": {
   "interpreter": {
    "hash": "939a5ab72fe20ad48974503871fbd742be2cab53d30d9ff8a8974dd090db548b"
   }
  }
 },
 "nbformat": 4,
 "nbformat_minor": 2
}
