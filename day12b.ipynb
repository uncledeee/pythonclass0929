{
 "cells": [
  {
   "cell_type": "code",
   "execution_count": 1,
   "metadata": {},
   "outputs": [],
   "source": [
    "import pymysql"
   ]
  },
  {
   "cell_type": "code",
   "execution_count": 3,
   "metadata": {},
   "outputs": [],
   "source": [
    "mydb = pymysql.connect(\n",
    "    host = 'localhost',\n",
    "    user = 'root',\n",
    "    password = 'Oyinmiene1'\n",
    ")\n",
    "mycursor = mydb.cursor()"
   ]
  },
  {
   "cell_type": "code",
   "execution_count": 4,
   "metadata": {},
   "outputs": [
    {
     "name": "stdout",
     "output_type": "stream",
     "text": [
      "('information_schema',)\n",
      "('mysql',)\n",
      "('packwaystore',)\n",
      "('performance_schema',)\n",
      "('sakila',)\n",
      "('sys',)\n",
      "('world',)\n"
     ]
    }
   ],
   "source": [
    "mycursor.execute('show databases')\n",
    "for x in mycursor:\n",
    "    print(x)"
   ]
  },
  {
   "cell_type": "code",
   "execution_count": 5,
   "metadata": {},
   "outputs": [],
   "source": [
    "mydb = pymysql.connect(\n",
    "    host = 'localhost',\n",
    "    user = 'root',\n",
    "    password = 'Oyinmiene1',\n",
    "    database = 'packwaystore'\n",
    ")\n",
    "mycursor = mydb.cursor()"
   ]
  },
  {
   "cell_type": "code",
   "execution_count": 10,
   "metadata": {},
   "outputs": [
    {
     "name": "stdout",
     "output_type": "stream",
     "text": [
      "('itemdetails',)\n"
     ]
    }
   ],
   "source": [
    "mycursor.execute('show tables')\n",
    "for x in mycursor:\n",
    "    print(x)\n"
   ]
  },
  {
   "cell_type": "code",
   "execution_count": 9,
   "metadata": {},
   "outputs": [
    {
     "data": {
      "text/plain": [
       "0"
      ]
     },
     "execution_count": 9,
     "metadata": {},
     "output_type": "execute_result"
    }
   ],
   "source": [
    "mycursor.execute('alter table itemrecords rename to itemdetails')"
   ]
  },
  {
   "cell_type": "code",
   "execution_count": 14,
   "metadata": {},
   "outputs": [],
   "source": [
    "sql = 'insert into itemdetails(ITEMID,ITEMNAME,ITEMCATEGORIES,ITEMSUBCATEGORY,ITEMCONDITION,ITEMSUPPLYDATE,ITEMQUANTITY,ITEMPRICE) values(%s,%s,%s,%s,%s,%s,%s,%s)'\n",
    "\n",
    "val = [(10,'LENOVO THINKPAD','ELECTRONICS','LAPTOP','FRAGILE','2021-12-28',30, 850000.00),\n",
    "     (11,'W2 EARBUD','ELECTRONICS','ACCESSORIES','FRAGILE','2022-11-15',150,6500.00),\n",
    "    (12,'PLAYSTORE','ELECTRONICS','GAMING','FRAGILE','2021-01-22',20,150000.00)]\n",
    "mycursor.executemany(sql,val)\n",
    "mydb.commit()\n"
   ]
  },
  {
   "cell_type": "code",
   "execution_count": 15,
   "metadata": {},
   "outputs": [
    {
     "name": "stdout",
     "output_type": "stream",
     "text": [
      "(1, 'LG AIR CONDITION', 'ELECTRONICS', 'AIR CONDITION', 'FRAGILE', datetime.date(2021, 5, 26), 50, 200000.0)\n",
      "(2, 'TECNO SPARK 9T', 'MOBILE PHONES', 'ANDROID', 'FRAGILE', datetime.date(2022, 3, 25), 45, 145000.0)\n",
      "(3, 'MEN GUCCI SHOE', 'WEARS', 'MEN WEARS', 'NON-FRAGILE', datetime.date(2019, 8, 25), 20, 50000.0)\n",
      "(4, 'IPHONE 14', 'MOBILE PHONES', 'IOS', 'FRAGILE', datetime.date(2022, 1, 15), 80, 1500000.0)\n",
      "(5, 'HISENSE OVEN', 'ELECTRONICS', 'KITCHEN EQUIPMENT', 'FRAGILE', datetime.date(2021, 12, 22), 5, 300000.0)\n",
      "(6, 'PLAYSTATION 5', 'ELECTRONICS', 'GAMING', 'FRAGILE', datetime.date(2021, 12, 25), 25, 600000.0)\n",
      "(7, 'WESTER WIRELESS PAD', 'ELECTRONICS', 'GAMING', 'FRAGILE', datetime.date(2022, 3, 15), 100, 8000.25)\n",
      "(8, 'SWEET MAMA 50KG RICE', 'FOOD AND OTHERS', 'RAW ITEMS', 'PERISHABLE', datetime.date(2021, 12, 15), 45, 50000.0)\n",
      "(9, 'FLEXIBLE READING TABLE', 'WOODEN EQUIPMENT', 'TABLE', 'NON-FRAGILE', datetime.date(2020, 10, 28), 55, 45000.0)\n",
      "(10, 'LENOVO THINKPAD', 'ELECTRONICS', 'LAPTOP', 'FRAGILE', datetime.date(2021, 12, 28), 30, 850000.0)\n",
      "(11, 'W2 EARBUD', 'ELECTRONICS', 'ACCESSORIES', 'FRAGILE', datetime.date(2022, 11, 15), 150, 6500.0)\n",
      "(12, 'PLAYSTORE', 'ELECTRONICS', 'GAMING', 'FRAGILE', datetime.date(2021, 1, 22), 20, 150000.0)\n"
     ]
    }
   ],
   "source": [
    "mycursor.execute('select * from itemdetails')\n",
    "for x in mycursor:\n",
    "    print(x)"
   ]
  },
  {
   "cell_type": "code",
   "execution_count": null,
   "metadata": {},
   "outputs": [],
   "source": []
  }
 ],
 "metadata": {
  "kernelspec": {
   "display_name": "Python 3.10.4 64-bit",
   "language": "python",
   "name": "python3"
  },
  "language_info": {
   "codemirror_mode": {
    "name": "ipython",
    "version": 3
   },
   "file_extension": ".py",
   "mimetype": "text/x-python",
   "name": "python",
   "nbconvert_exporter": "python",
   "pygments_lexer": "ipython3",
   "version": "3.10.4"
  },
  "orig_nbformat": 4,
  "vscode": {
   "interpreter": {
    "hash": "939a5ab72fe20ad48974503871fbd742be2cab53d30d9ff8a8974dd090db548b"
   }
  }
 },
 "nbformat": 4,
 "nbformat_minor": 2
}
